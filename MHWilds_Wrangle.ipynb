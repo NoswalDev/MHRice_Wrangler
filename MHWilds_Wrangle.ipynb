{
 "cells": [
  {
   "cell_type": "markdown",
   "id": "e1a83ba5",
   "metadata": {},
   "source": [
    "wilds\n",
    "ArmorData.user.3.json: armor data\n"
   ]
  },
  {
   "cell_type": "code",
   "execution_count": 3,
   "id": "d7e9789d",
   "metadata": {},
   "outputs": [],
   "source": [
    "# head cell\n",
    "import json\n",
    "import pandas as pd\n",
    "import numpy as np\n",
    "import re\n",
    "\n",
    "with open('mhwilds/ArmorData.user.3.json') as file:\n",
    "    raw = json.load(file)"
   ]
  },
  {
   "cell_type": "markdown",
   "id": "62e0da27",
   "metadata": {},
   "source": [
    "app.user_data.ArmorData.cData._Index: Rename to Index\n",
    "app.user_data.ArmorData.cData._DataValue: DataValue\n",
    "app.user_data.ArmorData.cData._Series.app.ArmorDef.SERIES_Serializable._Value: [30074]ID_213 -> ID_213: Name\n",
    "app.user_data.ArmorData.cData._PartsType.app.ArmorDef.ARMOR_PARTS_Serializable._Value: [0]HELM -> HELM\n",
    "app.user_data.ArmorData.cData._Name: Send to front\n",
    "app.user_data.ArmorData.cData._Explain: Delete\n",
    "app.user_data.ArmorData.cData._Defense: Rename to Defense\n",
    "app.user_data.ArmorData.cData._Resistance: Break into Fire | Water | Thunder | Ice | Dragon\n",
    "app.user_data.ArmorData.cData._SlotLevel: Break into Slot 1 | Slot 2 | Slot 3\n",
    "app.user_data.ArmorData.cData._Skill: Break into Skill 1 | Skill 2 | Skill 3\n",
    "app.user_data.ArmorData.cData._SkillLevel: Break into Skill 1 LV | Skill 2 LV | Skill 3 LV"
   ]
  },
  {
   "cell_type": "code",
   "execution_count": 4,
   "id": "24c96e9a",
   "metadata": {},
   "outputs": [],
   "source": [
    "# Armor\n",
    "sect = raw.get('app.user_data.ArmorData').get('_Values')\n",
    "df = pd.json_normalize(sect)\n",
    "\n",
    "df['Index'] = df['app.user_data.ArmorData.cData._Index']\n",
    "# df['Data_Value'] = df['app.user_data.ArmorData.cData._DataValue']\n",
    "df['Series'] = df['app.user_data.ArmorData.cData._Series.app.ArmorDef.SERIES_Serializable._Value'].str.extract(r'\\](.*)', expand=False)\n",
    "df['Part'] = df['app.user_data.ArmorData.cData._PartsType.app.ArmorDef.ARMOR_PARTS_Serializable._Value'].str.extract(r'\\](.*)', expand=False)\n",
    "df['Defense'] = df['app.user_data.ArmorData.cData._Defense']\n",
    "df[['Fire','Water','Thunder','Ice','Dragon']] = pd.DataFrame(df['app.user_data.ArmorData.cData._Resistance'].tolist(), index=df.index)\n",
    "df['Slot_1_LV'] = df['app.user_data.ArmorData.cData._SlotLevel'].apply(lambda x: int(re.search(r'\\[(\\d+)\\]', x[0]['app.EquipDef.SlotLevel_Serializable']['_Value']).group(1)))\n",
    "df['Slot_2_LV'] = df['app.user_data.ArmorData.cData._SlotLevel'].apply(lambda x: int(re.search(r'\\[(\\d+)\\]', x[1]['app.EquipDef.SlotLevel_Serializable']['_Value']).group(1)))\n",
    "df['Slot_3_LV'] = df['app.user_data.ArmorData.cData._SlotLevel'].apply(lambda x: int(re.search(r'\\[(\\d+)\\]', x[2]['app.EquipDef.SlotLevel_Serializable']['_Value']).group(1)))\n",
    "df['Set_Bonus'] = df['app.user_data.ArmorData.cData._Skill'].apply(lambda x: x[0]['app.HunterDef.Skill_Serializable']['_Value'])\n",
    "df['Set_Bonus'] = df['Set_Bonus'].apply(lambda x: x.split(']')[1] if ']' in x else x)\n",
    "df['Group_Skill'] = df['app.user_data.ArmorData.cData._Skill'].apply(lambda x: x[1]['app.HunterDef.Skill_Serializable']['_Value'])\n",
    "df['Group_Skill'] = df['Group_Skill'].apply(lambda x: x.split(']')[1] if ']' in x else x)\n",
    "df['Skill_1'] = df['app.user_data.ArmorData.cData._Skill'].apply(lambda x: x[2]['app.HunterDef.Skill_Serializable']['_Value'])\n",
    "df['Skill_1'] = df['Skill_1'].apply(lambda x: x.split(']')[1] if ']' in x else x)\n",
    "df['Skill_2'] = df['app.user_data.ArmorData.cData._Skill'].apply(lambda x: x[3]['app.HunterDef.Skill_Serializable']['_Value'])\n",
    "df['Skill_2'] = df['Skill_2'].apply(lambda x: x.split(']')[1] if ']' in x else x)\n",
    "df['Skill_3'] = df['app.user_data.ArmorData.cData._Skill'].apply(lambda x: x[4]['app.HunterDef.Skill_Serializable']['_Value'])\n",
    "df['Skill_3'] = df['Skill_3'].apply(lambda x: x.split(']')[1] if ']' in x else x)\n",
    "df['Skill_4'] = df['app.user_data.ArmorData.cData._Skill'].apply(lambda x: x[5]['app.HunterDef.Skill_Serializable']['_Value'])\n",
    "df['Skill_4'] = df['Skill_4'].apply(lambda x: x.split(']')[1] if ']' in x else x)\n",
    "df['Skill_5'] = df['app.user_data.ArmorData.cData._Skill'].apply(lambda x: x[6]['app.HunterDef.Skill_Serializable']['_Value'])\n",
    "df['Skill_5'] = df['Skill_5'].apply(lambda x: x.split(']')[1] if ']' in x else x)\n",
    "df[['Set_Bonus_LV','Group_Skill_LV','Skill_1_LV','Skill_2_LV','Skill_3_LV','Skill_4_LV','Skill_5_LV']] = pd.DataFrame(df['app.user_data.ArmorData.cData._SkillLevel'].tolist(), index=df.index)\n",
    "\n",
    "df_armor=df[['Index','Series','Part','Defense','Fire','Water','Thunder','Ice','Dragon','Slot_1_LV','Slot_2_LV','Slot_3_LV',\n",
    "       'Skill_1','Skill_1_LV','Skill_2','Skill_2_LV','Skill_3','Skill_3_LV','Skill_4','Skill_4_LV','Skill_5','Skill_5_LV','Set_Bonus','Set_Bonus_LV','Group_Skill','Group_Skill_LV']].copy()\n",
    "\n",
    "df_armor['Skill_1'] = df_armor['Skill_1'].replace(dict_skills)\n",
    "df_armor['Skill_2'] = df_armor['Skill_2'].replace(dict_skills)\n",
    "df_armor['Skill_3'] = df_armor['Skill_3'].replace(dict_skills)\n",
    "df_armor['Skill_4'] = df_armor['Skill_4'].replace(dict_skills)\n",
    "df_armor['Skill_5'] = df_armor['Skill_5'].replace(dict_skills)\n",
    "df_armor['Set_Bonus'] = df_armor['Set_Bonus'].replace(dict_skills)\n",
    "df_armor['Group_Skill'] = df_armor['Group_Skill'].replace(dict_skills)\n",
    "\n",
    "# df_armor.head()\n",
    "df_armor.to_excel(\"Wilds_Armor.xlsx\")\n",
    "\n"
   ]
  },
  {
   "cell_type": "markdown",
   "id": "82894596",
   "metadata": {},
   "source": [
    "amulets\n",
    "AmuletData.user.3.json\n",
    "    _Index: \n",
    "    _DataID: \n",
    "    _Lv: \n",
    "    _AmuletType: \n",
    "    _SortId: \n",
    "    _Rare: \n",
    "    _Skill: \n",
    "    _SkillLevel: \n",
    "\n",
    "AmuletRecipeData.user.3.json"
   ]
  },
  {
   "cell_type": "code",
   "execution_count": 72,
   "id": "740dc675",
   "metadata": {},
   "outputs": [],
   "source": [
    "# head cell\n",
    "import json\n",
    "import pandas as pd\n",
    "import numpy as np\n",
    "import re\n",
    "\n",
    "with open('mhwilds/AmuletData.user.3.json') as file:\n",
    "    raw = json.load(file)\n",
    "sect = raw.get('app.user_data.AmuletData').get('_Values')\n",
    "df = pd.json_normalize(sect)"
   ]
  },
  {
   "cell_type": "code",
   "execution_count": 73,
   "id": "c0ede51e",
   "metadata": {},
   "outputs": [],
   "source": [
    "df['Skill_1'] = df['app.user_data.AmuletData.cData._Skill'].apply(lambda x: x[0]['app.HunterDef.Skill_Serializable']['_Value'])\n",
    "df['Skill_1'] = df['Skill_1'].apply(lambda x: x.split(']')[1] if ']' in x else x)\n",
    "df['Skill_2'] = df['app.user_data.AmuletData.cData._Skill'].apply(lambda x: x[1]['app.HunterDef.Skill_Serializable']['_Value'])\n",
    "df['Skill_2'] = df['Skill_2'].apply(lambda x: x.split(']')[1] if ']' in x else x)\n",
    "df['Skill_3'] = df['app.user_data.AmuletData.cData._Skill'].apply(lambda x: x[2]['app.HunterDef.Skill_Serializable']['_Value'])\n",
    "df['Skill_3'] = df['Skill_3'].apply(lambda x: x.split(']')[1] if ']' in x else x)\n",
    "df['Skill_1_LV'] = df['app.user_data.AmuletData.cData._SkillLevel'].apply(lambda x: int(x[0]))\n",
    "df['Skill_2_LV'] = df['app.user_data.AmuletData.cData._SkillLevel'].apply(lambda x: int(x[1]))\n",
    "df['Skill_3_LV'] = df['app.user_data.AmuletData.cData._SkillLevel'].apply(lambda x: int(x[2]))\n",
    "df['Index'] = df['app.user_data.AmuletData.cData._Index']\n",
    "df['Data_ID'] = df['app.user_data.AmuletData.cData._DataId']\n",
    "df['Amulet_LV'] = df['app.user_data.AmuletData.cData._Lv']\n",
    "df['Sort_ID'] = df['app.user_data.AmuletData.cData._SortId']\n",
    "df['Rarity'] = df['app.user_data.AmuletData.cData._Rare.app.ItemDef.RARE_Serializable._Value'].str.extract(r'\\](.*)', expand=False)\n",
    "\n",
    "df_amu = df[['Index','Data_ID','Sort_ID','Rarity','Amulet_LV','Skill_1','Skill_1_LV','Skill_2','Skill_2_LV','Skill_3','Skill_3_LV']].copy()\n",
    "\n",
    "df_amu['Skill_1'] = df_amu['Skill_1'].replace(dict_skills)\n",
    "df_amu['Skill_2'] = df_amu['Skill_2'].replace(dict_skills)\n",
    "df_amu['Skill_3'] = df_amu['Skill_3'].replace(dict_skills)\n",
    "\n",
    "# df_amu.head()\n",
    "df_amu.to_excel('Wilds_Amulet.xlsx')"
   ]
  },
  {
   "cell_type": "markdown",
   "id": "f4e3c267",
   "metadata": {},
   "source": [
    "Accessory"
   ]
  },
  {
   "cell_type": "code",
   "execution_count": 6,
   "id": "41415925",
   "metadata": {},
   "outputs": [],
   "source": [
    "# head cell\n",
    "import json\n",
    "import pandas as pd\n",
    "import numpy as np\n",
    "import re\n",
    "\n",
    "with open('mhwilds/AccessoryData.user.3.json') as file:\n",
    "    raw = json.load(file)\n",
    "sect = raw.get('app.user_data.AccessoryData').get('_Values')\n",
    "df = pd.json_normalize(sect)"
   ]
  },
  {
   "cell_type": "code",
   "execution_count": 7,
   "id": "75431943",
   "metadata": {},
   "outputs": [],
   "source": [
    "df['Index'] = df['app.user_data.AccessoryData.cData._Index']\n",
    "df['Acc_ID'] = df['app.user_data.AccessoryData.cData._AccessoryId.app.EquipDef.ACCESSORY_ID_Serializable._Value'].str.extract(r'\\](.*)', expand=False)\n",
    "df['Acc_Type'] = df['app.user_data.AccessoryData.cData._AccessoryType.app.EquipDef.ACCESSORY_TYPE_Serializable._Value'].str.extract(r'\\](.*)', expand=False)\n",
    "df['Sort_ID'] = df['app.user_data.AccessoryData.cData._SortId']\n",
    "df['Rarity'] = df['app.user_data.AccessoryData.cData._Rare.app.ItemDef.RARE_Serializable._Value'].str.extract(r'\\](.*)', expand=False)\n",
    "df['Size'] = df['app.user_data.AccessoryData.cData._SlotLevelAcc.app.EquipDef.SlotLevel_Serializable._Value'].apply(lambda x: (lambda m: m.group(1) if m else '')(re.search(r'\\[(.*?)\\]', x)))\n",
    "df['Skill_1'] = df['app.user_data.AccessoryData.cData._Skill'].apply(lambda x: x[0]['app.HunterDef.Skill_Serializable']['_Value'])\n",
    "df['Skill_1'] = df['Skill_1'].apply(lambda x: x.split(']')[1] if ']' in x else x)\n",
    "df['Skill_2'] = df['app.user_data.AccessoryData.cData._Skill'].apply(lambda x: x[1]['app.HunterDef.Skill_Serializable']['_Value'])\n",
    "df['Skill_2'] = df['Skill_2'].apply(lambda x: x.split(']')[1] if ']' in x else x)\n",
    "df['Skill_1_LV'] = df['app.user_data.AccessoryData.cData._SkillLevel'].apply(lambda x: int(x[0]))\n",
    "df['Skill_2_LV'] = df['app.user_data.AccessoryData.cData._SkillLevel'].apply(lambda x: int(x[1]))\n",
    "\n",
    "df_acc = df[['Index','Acc_ID','Acc_Type','Sort_ID','Rarity','Size','Skill_1','Skill_1_LV','Skill_2','Skill_2_LV']].copy()\n",
    "\n",
    "df_acc['Skill_1'] = df_acc['Skill_1'].replace(dict_skills)\n",
    "df_acc['Skill_2'] = df_acc['Skill_2'].replace(dict_skills)\n",
    "\n",
    "# df_acc.head()\n",
    "df_acc.to_excel('Wilds_Accessory.xlsx')"
   ]
  },
  {
   "cell_type": "markdown",
   "id": "e41dd723",
   "metadata": {},
   "source": [
    "sheet theft"
   ]
  },
  {
   "cell_type": "code",
   "execution_count": 5,
   "id": "254f93da",
   "metadata": {},
   "outputs": [],
   "source": [
    "import pandas as pd\n",
    "url = \"https://docs.google.com/spreadsheets/d/e/2PACX-1vQwtJ4Y6LJXQ9ORiNE_gTNQuMEQwabLS0lGeKTLPXb4WYHXJwLKDndC-cBl_KCBWQ/pubhtml#\"\n",
    "df = pd.read_html(url, encoding=\"utf-8\")\n",
    "df = df[0]\n",
    "df.columns = df.iloc[0]\n",
    "df = df[1:].reset_index(drop=True)\n",
    "\n",
    "df['Skill_ID'] = df['skillId']\n",
    "df['Skill'] = df['skillName']\n",
    "df['Skill_Type'] = df['skillCategory']\n",
    "df_skills = df[['Index','Skill_ID','Skill','Skill_Type']].copy()\n",
    "\n",
    "dict_skills = dict(zip(df_skills['Skill_ID'], df_skills['Skill']))\n",
    "# df.head()\n",
    "# df.to_excel(\"Skill_Names.xlsx\")"
   ]
  }
 ],
 "metadata": {
  "kernelspec": {
   "display_name": "Python 3",
   "language": "python",
   "name": "python3"
  },
  "language_info": {
   "codemirror_mode": {
    "name": "ipython",
    "version": 3
   },
   "file_extension": ".py",
   "mimetype": "text/x-python",
   "name": "python",
   "nbconvert_exporter": "python",
   "pygments_lexer": "ipython3",
   "version": "3.12.3"
  }
 },
 "nbformat": 4,
 "nbformat_minor": 5
}
